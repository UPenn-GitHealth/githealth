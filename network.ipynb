{
 "cells": [
  {
   "cell_type": "code",
   "execution_count": 1,
   "metadata": {},
   "outputs": [],
   "source": [
    "import pandas as pd\n",
    "import numpy as np\n",
    "import networkx as nx\n",
    "import scipy as sp"
   ]
  },
  {
   "cell_type": "code",
   "execution_count": 2,
   "metadata": {},
   "outputs": [],
   "source": [
    "G = nx.DiGraph()\n",
    "\n",
    "# Dummy data\n",
    "G.add_nodes_from(range(0, 9))\n",
    "\n",
    "G.add_edge(0, 1);\n",
    "G.add_edge(0, 2);\n",
    "G.add_edge(0, 3);\n",
    "G.add_edge(0, 4);\n",
    "G.add_edge(0, 5);\n",
    "G.add_edge(1, 2);\n",
    "G.add_edge(1, 6);\n",
    "G.add_edge(1, 8);\n",
    "G.add_edge(4, 6);\n",
    "G.add_edge(5, 6);\n",
    "G.add_edge(7, 8);\n",
    "G.add_edge(7, 9);"
   ]
  },
  {
   "cell_type": "code",
   "execution_count": 33,
   "metadata": {},
   "outputs": [],
   "source": [
    "# Cycle\n",
    "\n",
    "G = nx.DiGraph()\n",
    "G.add_nodes_from(range(0, 3))\n",
    "G.add_edge(0, 1);\n",
    "G.add_edge(1, 2);\n",
    "G.add_edge(2, 3);\n",
    "G.add_edge(3, 0);"
   ]
  },
  {
   "cell_type": "code",
   "execution_count": 10,
   "metadata": {},
   "outputs": [
    {
     "name": "stdout",
     "output_type": "stream",
     "text": [
      "{0: 0.06810337931306328, 1: 0.07968118226903027, 2: 0.1022576464145522, 3: 0.07968118226903027, 4: 0.07968118226903027, 5: 0.07968118226903027, 6: 0.22613862833171677, 7: 0.06810337931306328, 8: 0.11962435084850269, 9: 0.09704788670298077}\n"
     ]
    }
   ],
   "source": [
    "PR = nx.algorithms.pagerank(G)\n",
    "print(PR)"
   ]
  },
  {
   "cell_type": "code",
   "execution_count": 11,
   "metadata": {},
   "outputs": [],
   "source": [
    "def gini_coefficient(centralities):\n",
    "\n",
    "    N = centralities.size\n",
    "\n",
    "    numerator = 0\n",
    "    for i in range(N):\n",
    "        for j in range(N):\n",
    "           numerator += abs(centralities[i] - centralities[j])\n",
    "\n",
    "    denominator = 2 * N * np.sum(centralities)\n",
    "    i = 0\n",
    "\n",
    "    return numerator / denominator \n",
    "    \n",
    "        \n",
    "        "
   ]
  },
  {
   "cell_type": "code",
   "execution_count": 12,
   "metadata": {},
   "outputs": [
    {
     "data": {
      "text/plain": [
       "0.19479464759454182"
      ]
     },
     "execution_count": 12,
     "metadata": {},
     "output_type": "execute_result"
    }
   ],
   "source": [
    "\n",
    "# Convert dict to numpy array\n",
    "PR_arr = np.array([PR[key] for key in PR])\n",
    "\n",
    "gini_coefficient(PR_arr)"
   ]
  }
 ],
 "metadata": {
  "kernelspec": {
   "display_name": "base",
   "language": "python",
   "name": "python3"
  },
  "language_info": {
   "codemirror_mode": {
    "name": "ipython",
    "version": 3
   },
   "file_extension": ".py",
   "mimetype": "text/x-python",
   "name": "python",
   "nbconvert_exporter": "python",
   "pygments_lexer": "ipython3",
   "version": "3.11.5"
  }
 },
 "nbformat": 4,
 "nbformat_minor": 2
}

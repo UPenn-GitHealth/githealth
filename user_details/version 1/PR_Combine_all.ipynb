{
  "nbformat": 4,
  "nbformat_minor": 0,
  "metadata": {
    "colab": {
      "provenance": []
    },
    "kernelspec": {
      "name": "python3",
      "display_name": "Python 3"
    },
    "language_info": {
      "name": "python"
    }
  },
  "cells": [
    {
      "cell_type": "code",
      "execution_count": null,
      "metadata": {
        "colab": {
          "base_uri": "https://localhost:8080/"
        },
        "id": "7tV3YsP54gg9",
        "outputId": "40590102-94cc-4dff-edda-f69355698b00"
      },
      "outputs": [
        {
          "output_type": "stream",
          "name": "stdout",
          "text": [
            "user_details_PR_commiters_df info:\n",
            "<class 'pandas.core.frame.DataFrame'>\n",
            "RangeIndex: 134 entries, 0 to 133\n",
            "Data columns (total 7 columns):\n",
            " #   Column                Non-Null Count  Dtype \n",
            "---  ------                --------------  ----- \n",
            " 0   pull_request_user_id  134 non-null    object\n",
            " 1   company               53 non-null     object\n",
            " 2   email                 36 non-null     object\n",
            " 3   location              66 non-null     object\n",
            " 4   social_media_link     134 non-null    object\n",
            " 5   followers             134 non-null    int64 \n",
            " 6   followings            134 non-null    int64 \n",
            "dtypes: int64(2), object(5)\n",
            "memory usage: 7.5+ KB\n",
            "None\n",
            "\n",
            "user_details_PR_id_df info:\n",
            "<class 'pandas.core.frame.DataFrame'>\n",
            "RangeIndex: 58 entries, 0 to 57\n",
            "Data columns (total 7 columns):\n",
            " #   Column                Non-Null Count  Dtype \n",
            "---  ------                --------------  ----- \n",
            " 0   pull_request_user_id  58 non-null     object\n",
            " 1   company               29 non-null     object\n",
            " 2   email                 16 non-null     object\n",
            " 3   location              33 non-null     object\n",
            " 4   social_media_link     58 non-null     object\n",
            " 5   followers             58 non-null     int64 \n",
            " 6   followings            58 non-null     int64 \n",
            "dtypes: int64(2), object(5)\n",
            "memory usage: 3.3+ KB\n",
            "None\n",
            "\n",
            "user_details_comment_df info:\n",
            "<class 'pandas.core.frame.DataFrame'>\n",
            "RangeIndex: 57 entries, 0 to 56\n",
            "Data columns (total 7 columns):\n",
            " #   Column                Non-Null Count  Dtype \n",
            "---  ------                --------------  ----- \n",
            " 0   pull_request_user_id  56 non-null     object\n",
            " 1   company               26 non-null     object\n",
            " 2   email                 18 non-null     object\n",
            " 3   location              30 non-null     object\n",
            " 4   social_media_link     57 non-null     object\n",
            " 5   followers             57 non-null     int64 \n",
            " 6   followings            57 non-null     int64 \n",
            "dtypes: int64(2), object(5)\n",
            "memory usage: 3.2+ KB\n",
            "None\n"
          ]
        }
      ],
      "source": [
        "import pandas as pd\n",
        "\n",
        "# Load CSV files into DataFrames\n",
        "user_details_PR_commiters_df = pd.read_csv('user_details_PR_commiters.csv')\n",
        "user_details_PR_id_df = pd.read_csv('user_details_PR_id.csv')\n",
        "user_details_comment_df = pd.read_csv('user_details_comment.csv')\n",
        "\n",
        "# Display basic information about each DataFrame\n",
        "print(\"user_details_PR_commiters_df info:\")\n",
        "print(user_details_PR_commiters_df.info())\n",
        "\n",
        "print(\"\\nuser_details_PR_id_df info:\")\n",
        "print(user_details_PR_id_df.info())\n",
        "\n",
        "print(\"\\nuser_details_comment_df info:\")\n",
        "print(user_details_comment_df.info())"
      ]
    },
    {
      "cell_type": "code",
      "source": [
        "# Concatenate DataFrames vertically\n",
        "concatenated_df = pd.concat([user_details_PR_commiters_df, user_details_PR_id_df, user_details_comment_df], ignore_index=True)\n",
        "\n",
        "# Deduplicate based on 'pull_request_user_id'\n",
        "deduplicated_df = concatenated_df.drop_duplicates(subset='pull_request_user_id', keep='first')\n",
        "\n",
        "# Save the deduplicated DataFrame to a new CSV file\n",
        "deduplicated_df.to_csv('pr_user_details_all.csv', index=False)\n",
        "\n",
        "# Display basic information about the deduplicated DataFrame\n",
        "print(\"Deduplicated DataFrame info:\")\n",
        "print(deduplicated_df.info())"
      ],
      "metadata": {
        "colab": {
          "base_uri": "https://localhost:8080/"
        },
        "id": "VjQZk0Yw5LuR",
        "outputId": "dd5c979c-7cf8-4135-e05d-7d91ee800d82"
      },
      "execution_count": null,
      "outputs": [
        {
          "output_type": "stream",
          "name": "stdout",
          "text": [
            "Deduplicated DataFrame info:\n",
            "<class 'pandas.core.frame.DataFrame'>\n",
            "Int64Index: 141 entries, 0 to 237\n",
            "Data columns (total 7 columns):\n",
            " #   Column                Non-Null Count  Dtype \n",
            "---  ------                --------------  ----- \n",
            " 0   pull_request_user_id  140 non-null    object\n",
            " 1   company               56 non-null     object\n",
            " 2   email                 39 non-null     object\n",
            " 3   location              67 non-null     object\n",
            " 4   social_media_link     141 non-null    object\n",
            " 5   followers             141 non-null    int64 \n",
            " 6   followings            141 non-null    int64 \n",
            "dtypes: int64(2), object(5)\n",
            "memory usage: 8.8+ KB\n",
            "None\n"
          ]
        }
      ]
    }
  ]
}
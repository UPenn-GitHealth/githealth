{
  "nbformat": 4,
  "nbformat_minor": 0,
  "metadata": {
    "colab": {
      "provenance": []
    },
    "kernelspec": {
      "name": "python3",
      "display_name": "Python 3"
    },
    "language_info": {
      "name": "python"
    }
  },
  "cells": [
    {
      "cell_type": "code",
      "source": [
        "import pandas as pd\n",
        "\n",
        "# Assuming \"Autoware Contributors.xlsx\" is in the same directory as your script\n",
        "excel_file_path = \"Autoware Contributors.xlsx\"\n",
        "\n",
        "# Read Excel file into a DataFrame\n",
        "df_excel = pd.read_excel(excel_file_path)\n",
        "\n",
        "# Display basic information about the DataFrame\n",
        "print(\"Excel File Information:\")\n",
        "print(df_excel.info())"
      ],
      "metadata": {
        "colab": {
          "base_uri": "https://localhost:8080/"
        },
        "id": "-JxnkK4nEug1",
        "outputId": "d17750b9-b9a2-4cf6-9d8b-dec9b20a03d2"
      },
      "execution_count": 1,
      "outputs": [
        {
          "output_type": "stream",
          "name": "stdout",
          "text": [
            "Excel File Information:\n",
            "<class 'pandas.core.frame.DataFrame'>\n",
            "RangeIndex: 201 entries, 0 to 200\n",
            "Data columns (total 5 columns):\n",
            " #   Column      Non-Null Count  Dtype \n",
            "---  ------      --------------  ----- \n",
            " 0   name        178 non-null    object\n",
            " 1   company     177 non-null    object\n",
            " 2   user_id     167 non-null    object\n",
            " 3   Unnamed: 3  68 non-null     object\n",
            " 4   skills      155 non-null    object\n",
            "dtypes: object(5)\n",
            "memory usage: 8.0+ KB\n",
            "None\n"
          ]
        }
      ]
    },
    {
      "cell_type": "code",
      "source": [
        "# Display the first few rows of the DataFrame\n",
        "print(\"\\nFirst Few Rows:\")\n",
        "print(df_excel.head())"
      ],
      "metadata": {
        "colab": {
          "base_uri": "https://localhost:8080/"
        },
        "id": "W0RxUHo7KghZ",
        "outputId": "3a048936-6c7e-47e4-981c-25131ebcf4c7"
      },
      "execution_count": 2,
      "outputs": [
        {
          "output_type": "stream",
          "name": "stdout",
          "text": [
            "\n",
            "First Few Rows:\n",
            "                name company        user_id           Unnamed: 3  \\\n",
            "0  Bonolo Mathibela*     AWF      BonoloAWF           @BonoloAWF   \n",
            "1          Haoru Xue     AWF       HaoruXue            @HaoruXue   \n",
            "2        Zhijie Qiao     AWF      QZJGeorge           @QZJGeorge   \n",
            "3                NaN     NaN            NaN                  NaN   \n",
            "4     Filipe Rinaldi     Arm  filiperinaldi  @filipe.rinaldi.arm   \n",
            "\n",
            "                                              skills  \n",
            "0                       Technical Project Management  \n",
            "1  C++, Python, Racing ODD, Control, Perception, ...  \n",
            "2  C++, Python, ROS2, Machine Learning, Embedded ...  \n",
            "3                                                NaN  \n",
            "4  Anything related to Arm IP and work planning f...  \n"
          ]
        }
      ]
    },
    {
      "cell_type": "code",
      "source": [
        "import pandas as pd\n",
        "\n",
        "# Assuming \"user_details_all.csv\" is in the same directory as your script\n",
        "csv_file_path = \"user_details_all.csv\"\n",
        "\n",
        "# Read CSV file into a DataFrame\n",
        "df_csv = pd.read_csv(csv_file_path)\n",
        "\n",
        "# Display basic information about the DataFrame\n",
        "print(\"CSV File Information:\")\n",
        "print(df_csv.info())"
      ],
      "metadata": {
        "id": "uuOJy8dJDwYd",
        "colab": {
          "base_uri": "https://localhost:8080/"
        },
        "outputId": "dc92f016-4312-4c62-f4a9-02d7a3ff7b73"
      },
      "execution_count": 3,
      "outputs": [
        {
          "output_type": "stream",
          "name": "stdout",
          "text": [
            "CSV File Information:\n",
            "<class 'pandas.core.frame.DataFrame'>\n",
            "RangeIndex: 485 entries, 0 to 484\n",
            "Data columns (total 8 columns):\n",
            " #   Column             Non-Null Count  Dtype \n",
            "---  ------             --------------  ----- \n",
            " 0   user_id            484 non-null    object\n",
            " 1   company            156 non-null    object\n",
            " 2   email              104 non-null    object\n",
            " 3   location           187 non-null    object\n",
            " 4   social_media_link  485 non-null    object\n",
            " 5   followers          485 non-null    int64 \n",
            " 6   followings         485 non-null    int64 \n",
            " 7   name               307 non-null    object\n",
            "dtypes: int64(2), object(6)\n",
            "memory usage: 30.4+ KB\n",
            "None\n"
          ]
        }
      ]
    },
    {
      "cell_type": "code",
      "source": [
        "# Display the first few rows of the DataFrame\n",
        "print(\"\\nFirst Few Rows:\")\n",
        "print(df_csv.head())"
      ],
      "metadata": {
        "colab": {
          "base_uri": "https://localhost:8080/"
        },
        "id": "AiCnZEj0KjA2",
        "outputId": "b9ef5359-4189-4d93-d545-887b9b86ce2e"
      },
      "execution_count": 4,
      "outputs": [
        {
          "output_type": "stream",
          "name": "stdout",
          "text": [
            "\n",
            "First Few Rows:\n",
            "       user_id              company              email   location  \\\n",
            "0  mitsudome-r              TIER IV                NaN      Tokyo   \n",
            "1    xczhanjun           baidu usa   zhanjun@gmail.com  Sunnyvale   \n",
            "2        xmfcx  Autoware Foundation                NaN     Turkey   \n",
            "3  maxime-clem                  NaN                NaN        NaN   \n",
            "4   YamatoAndo                  NaN                NaN        NaN   \n",
            "\n",
            "                social_media_link  followers  followings                name  \n",
            "0  https://github.com/mitsudome-r         29           1  Ryohsuke Mitsudome  \n",
            "1    https://github.com/xczhanjun         32         105            Jun Zhan  \n",
            "2        https://github.com/xmfcx         29           3      M. Fatih Cırıt  \n",
            "3  https://github.com/maxime-clem          7           2      Maxime CLEMENT  \n",
            "4   https://github.com/YamatoAndo         11           0         Yamato Ando  \n"
          ]
        }
      ]
    },
    {
      "cell_type": "code",
      "source": [
        "# Concatenate DataFrames vertically\n",
        "concatenated_df = pd.concat([df_excel, df_csv], ignore_index=True)\n",
        "\n",
        "# Deduplicate based on 'pull_request_user_id'\n",
        "deduplicated_df = concatenated_df.drop_duplicates(subset='user_id', keep='first')\n",
        "\n",
        "# Save the deduplicated DataFrame to a new CSV file\n",
        "deduplicated_df.to_csv('ur_all.csv', index=False)\n",
        "\n",
        "# Display basic information about the deduplicated DataFrame\n",
        "print(\"Deduplicated DataFrame info:\")\n",
        "print(deduplicated_df.info())"
      ],
      "metadata": {
        "colab": {
          "base_uri": "https://localhost:8080/"
        },
        "id": "zWgJ_KBGFzCt",
        "outputId": "ce07d819-119a-4fe7-8292-f7e0b6540231"
      },
      "execution_count": 5,
      "outputs": [
        {
          "output_type": "stream",
          "name": "stdout",
          "text": [
            "Deduplicated DataFrame info:\n",
            "<class 'pandas.core.frame.DataFrame'>\n",
            "Int64Index: 546 entries, 0 to 685\n",
            "Data columns (total 10 columns):\n",
            " #   Column             Non-Null Count  Dtype  \n",
            "---  ------             --------------  -----  \n",
            " 0   name               384 non-null    object \n",
            " 1   company            260 non-null    object \n",
            " 2   user_id            545 non-null    object \n",
            " 3   Unnamed: 3         58 non-null     object \n",
            " 4   skills             146 non-null    object \n",
            " 5   email              78 non-null     object \n",
            " 6   location           131 non-null    object \n",
            " 7   social_media_link  381 non-null    object \n",
            " 8   followers          381 non-null    float64\n",
            " 9   followings         381 non-null    float64\n",
            "dtypes: float64(2), object(8)\n",
            "memory usage: 46.9+ KB\n",
            "None\n"
          ]
        }
      ]
    }
  ]
}
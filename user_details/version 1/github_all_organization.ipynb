{
  "nbformat": 4,
  "nbformat_minor": 0,
  "metadata": {
    "colab": {
      "provenance": []
    },
    "kernelspec": {
      "name": "python3",
      "display_name": "Python 3"
    },
    "language_info": {
      "name": "python"
    }
  },
  "cells": [
    {
      "cell_type": "code",
      "execution_count": null,
      "metadata": {
        "colab": {
          "base_uri": "https://localhost:8080/"
        },
        "id": "6TLQcV8c-1_i",
        "outputId": "4524503f-89ab-4ef5-80ab-3a653ee15fd5"
      },
      "outputs": [
        {
          "output_type": "stream",
          "name": "stdout",
          "text": [
            "Autoware Contributors DataFrame info:\n",
            "<class 'pandas.core.frame.DataFrame'>\n",
            "RangeIndex: 201 entries, 0 to 200\n",
            "Data columns (total 5 columns):\n",
            " #   Column      Non-Null Count  Dtype \n",
            "---  ------      --------------  ----- \n",
            " 0   name        178 non-null    object\n",
            " 1   company     177 non-null    object\n",
            " 2   user_id     167 non-null    object\n",
            " 3   Unnamed: 3  68 non-null     object\n",
            " 4   skills      155 non-null    object\n",
            "dtypes: object(5)\n",
            "memory usage: 8.0+ KB\n",
            "None\n",
            "\n",
            "Discussion Contributors DataFrame info:\n",
            "<class 'pandas.core.frame.DataFrame'>\n",
            "RangeIndex: 337 entries, 0 to 336\n",
            "Data columns (total 8 columns):\n",
            " #   Column             Non-Null Count  Dtype \n",
            "---  ------             --------------  ----- \n",
            " 0   user_id            336 non-null    object\n",
            " 1   company            110 non-null    object\n",
            " 2   email              66 non-null     object\n",
            " 3   location           123 non-null    object\n",
            " 4   social_media_link  337 non-null    object\n",
            " 5   followers          337 non-null    int64 \n",
            " 6   followings         337 non-null    int64 \n",
            " 7   name               337 non-null    object\n",
            "dtypes: int64(2), object(6)\n",
            "memory usage: 21.2+ KB\n",
            "None\n",
            "\n",
            "Issues Contributors DataFrame info:\n",
            "<class 'pandas.core.frame.DataFrame'>\n",
            "RangeIndex: 205 entries, 0 to 204\n",
            "Data columns (total 8 columns):\n",
            " #   Column             Non-Null Count  Dtype \n",
            "---  ------             --------------  ----- \n",
            " 0   user_id            205 non-null    object\n",
            " 1   company            82 non-null     object\n",
            " 2   email              58 non-null     object\n",
            " 3   location           103 non-null    object\n",
            " 4   social_media_link  205 non-null    object\n",
            " 5   followers          205 non-null    int64 \n",
            " 6   followings         205 non-null    int64 \n",
            " 7   name               205 non-null    object\n",
            "dtypes: int64(2), object(6)\n",
            "memory usage: 12.9+ KB\n",
            "None\n",
            "\n",
            "PR Contributors DataFrame info:\n",
            "<class 'pandas.core.frame.DataFrame'>\n",
            "RangeIndex: 141 entries, 0 to 140\n",
            "Data columns (total 8 columns):\n",
            " #   Column             Non-Null Count  Dtype \n",
            "---  ------             --------------  ----- \n",
            " 0   user_id            140 non-null    object\n",
            " 1   company            56 non-null     object\n",
            " 2   email              39 non-null     object\n",
            " 3   location           67 non-null     object\n",
            " 4   social_media_link  141 non-null    object\n",
            " 5   followers          141 non-null    int64 \n",
            " 6   followings         141 non-null    int64 \n",
            " 7   name               141 non-null    object\n",
            "dtypes: int64(2), object(6)\n",
            "memory usage: 8.9+ KB\n",
            "None\n"
          ]
        }
      ],
      "source": [
        "import requests\n",
        "import pandas as pd\n",
        "\n",
        "# Function to fetch GitHub user details by username\n",
        "def get_github_user_details(username):\n",
        "    url = f'https://api.github.com/users/{username}'\n",
        "    response = requests.get(url)\n",
        "    if response.status_code == 200:\n",
        "        user_data = response.json()\n",
        "        return user_data.get('name', '')\n",
        "    else:\n",
        "        return ''\n",
        "\n",
        "# Load Excel file into a DataFrame\n",
        "excel_file = pd.ExcelFile('autoware contributors.xlsx')\n",
        "autoware_contributors_df = excel_file.parse(excel_file.sheet_names[0])\n",
        "\n",
        "# Load CSV files into DataFrames\n",
        "discussion_contributors_df = pd.read_csv('discussion_contributers.csv')\n",
        "issues_contributors_df = pd.read_csv('issues_contributers.csv')\n",
        "pr_contributors_df = pd.read_csv('pr_contributers.csv')\n",
        "\n",
        "# Rename columns in the discussion_contributors_df DataFrame\n",
        "discussion_contributors_df = discussion_contributors_df.rename(columns={'discussion_comment_author': 'user_id'})\n",
        "\n",
        "# Rename columns in the issues_contributors_df DataFrame\n",
        "issues_contributors_df = issues_contributors_df.rename(columns={'issues_comment_author': 'user_id'})\n",
        "\n",
        "# Rename columns in the pr_contributors_df DataFrame\n",
        "pr_contributors_df = pr_contributors_df.rename(columns={'pull_request_user_id': 'user_id'})\n",
        "\n",
        "# Fetch and update names for discussion_contributors_df\n",
        "discussion_contributors_df['name'] = discussion_contributors_df['user_id'].apply(get_github_user_details)\n",
        "\n",
        "# Fetch and update names for issues_contributors_df\n",
        "issues_contributors_df['name'] = issues_contributors_df['user_id'].apply(get_github_user_details)\n",
        "\n",
        "# Fetch and update names for pr_contributors_df\n",
        "pr_contributors_df['name'] = pr_contributors_df['user_id'].apply(get_github_user_details)\n",
        "\n",
        "# Add 'name' column to current CSV files\n",
        "discussion_contributors_df.to_csv('discussion_contributers.csv', index=False)\n",
        "issues_contributors_df.to_csv('issues_contributers.csv', index=False)\n",
        "pr_contributors_df.to_csv('pr_contributers.csv', index=False)\n",
        "\n",
        "# Display basic information about each DataFrame\n",
        "print(\"Autoware Contributors DataFrame info:\")\n",
        "print(autoware_contributors_df.info())\n",
        "\n",
        "print(\"\\nDiscussion Contributors DataFrame info:\")\n",
        "print(discussion_contributors_df.info())\n",
        "\n",
        "print(\"\\nIssues Contributors DataFrame info:\")\n",
        "print(issues_contributors_df.info())\n",
        "\n",
        "print(\"\\nPR Contributors DataFrame info:\")\n",
        "print(pr_contributors_df.info())"
      ]
    },
    {
      "cell_type": "code",
      "source": [
        "# Concatenate DataFrames vertically\n",
        "concatenated_df = pd.concat([discussion_contributors_df, issues_contributors_df, pr_contributors_df], ignore_index=True)\n",
        "\n",
        "# Deduplicate based on 'pull_request_user_id'\n",
        "deduplicated_df = concatenated_df.drop_duplicates(subset='user_id', keep='first')\n",
        "\n",
        "# Save the deduplicated DataFrame to a new CSV file\n",
        "deduplicated_df.to_csv('user_details_all.csv', index=False)\n",
        "\n",
        "# Display basic information about the deduplicated DataFrame\n",
        "print(\"Deduplicated DataFrame info:\")\n",
        "print(deduplicated_df.info())"
      ],
      "metadata": {
        "colab": {
          "base_uri": "https://localhost:8080/"
        },
        "id": "JdfrswqZDvl1",
        "outputId": "80773903-de93-4343-f7c0-cec9aaea0969"
      },
      "execution_count": null,
      "outputs": [
        {
          "output_type": "stream",
          "name": "stdout",
          "text": [
            "Deduplicated DataFrame info:\n",
            "<class 'pandas.core.frame.DataFrame'>\n",
            "Int64Index: 485 entries, 0 to 679\n",
            "Data columns (total 8 columns):\n",
            " #   Column             Non-Null Count  Dtype \n",
            "---  ------             --------------  ----- \n",
            " 0   user_id            484 non-null    object\n",
            " 1   company            156 non-null    object\n",
            " 2   email              104 non-null    object\n",
            " 3   location           187 non-null    object\n",
            " 4   social_media_link  485 non-null    object\n",
            " 5   followers          485 non-null    int64 \n",
            " 6   followings         485 non-null    int64 \n",
            " 7   name               485 non-null    object\n",
            "dtypes: int64(2), object(6)\n",
            "memory usage: 34.1+ KB\n",
            "None\n"
          ]
        }
      ]
    },
    {
      "cell_type": "code",
      "source": [],
      "metadata": {
        "id": "uuOJy8dJDwYd"
      },
      "execution_count": null,
      "outputs": []
    }
  ]
}
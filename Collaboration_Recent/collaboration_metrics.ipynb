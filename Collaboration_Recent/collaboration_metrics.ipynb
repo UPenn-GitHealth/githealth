{
  "cells": [
    {
      "cell_type": "markdown",
      "metadata": {
        "id": "9g60pWcKW6MU"
      },
      "source": [
        "Create pull requests database"
      ]
    },
    {
      "cell_type": "code",
      "source": [
        "pip install pyvis"
      ],
      "metadata": {
        "colab": {
          "base_uri": "https://localhost:8080/"
        },
        "id": "o0evtpv2XuWa",
        "outputId": "122b1eea-cef9-4aef-b8f0-c8f8aba7e8c8"
      },
      "execution_count": 1,
      "outputs": [
        {
          "output_type": "stream",
          "name": "stdout",
          "text": [
            "Collecting pyvis\n",
            "  Downloading pyvis-0.3.2-py3-none-any.whl (756 kB)\n",
            "\u001b[2K     \u001b[90m━━━━━━━━━━━━━━━━━━━━━━━━━━━━━━━━━━━━━━━━\u001b[0m \u001b[32m756.0/756.0 kB\u001b[0m \u001b[31m3.5 MB/s\u001b[0m eta \u001b[36m0:00:00\u001b[0m\n",
            "\u001b[?25hRequirement already satisfied: ipython>=5.3.0 in /usr/local/lib/python3.10/dist-packages (from pyvis) (7.34.0)\n",
            "Requirement already satisfied: jinja2>=2.9.6 in /usr/local/lib/python3.10/dist-packages (from pyvis) (3.1.3)\n",
            "Requirement already satisfied: jsonpickle>=1.4.1 in /usr/local/lib/python3.10/dist-packages (from pyvis) (3.0.2)\n",
            "Requirement already satisfied: networkx>=1.11 in /usr/local/lib/python3.10/dist-packages (from pyvis) (3.2.1)\n",
            "Requirement already satisfied: setuptools>=18.5 in /usr/local/lib/python3.10/dist-packages (from ipython>=5.3.0->pyvis) (67.7.2)\n",
            "Collecting jedi>=0.16 (from ipython>=5.3.0->pyvis)\n",
            "  Downloading jedi-0.19.1-py2.py3-none-any.whl (1.6 MB)\n",
            "\u001b[2K     \u001b[90m━━━━━━━━━━━━━━━━━━━━━━━━━━━━━━━━━━━━━━━━\u001b[0m \u001b[32m1.6/1.6 MB\u001b[0m \u001b[31m7.1 MB/s\u001b[0m eta \u001b[36m0:00:00\u001b[0m\n",
            "\u001b[?25hRequirement already satisfied: decorator in /usr/local/lib/python3.10/dist-packages (from ipython>=5.3.0->pyvis) (4.4.2)\n",
            "Requirement already satisfied: pickleshare in /usr/local/lib/python3.10/dist-packages (from ipython>=5.3.0->pyvis) (0.7.5)\n",
            "Requirement already satisfied: traitlets>=4.2 in /usr/local/lib/python3.10/dist-packages (from ipython>=5.3.0->pyvis) (5.7.1)\n",
            "Requirement already satisfied: prompt-toolkit!=3.0.0,!=3.0.1,<3.1.0,>=2.0.0 in /usr/local/lib/python3.10/dist-packages (from ipython>=5.3.0->pyvis) (3.0.43)\n",
            "Requirement already satisfied: pygments in /usr/local/lib/python3.10/dist-packages (from ipython>=5.3.0->pyvis) (2.16.1)\n",
            "Requirement already satisfied: backcall in /usr/local/lib/python3.10/dist-packages (from ipython>=5.3.0->pyvis) (0.2.0)\n",
            "Requirement already satisfied: matplotlib-inline in /usr/local/lib/python3.10/dist-packages (from ipython>=5.3.0->pyvis) (0.1.6)\n",
            "Requirement already satisfied: pexpect>4.3 in /usr/local/lib/python3.10/dist-packages (from ipython>=5.3.0->pyvis) (4.9.0)\n",
            "Requirement already satisfied: MarkupSafe>=2.0 in /usr/local/lib/python3.10/dist-packages (from jinja2>=2.9.6->pyvis) (2.1.4)\n",
            "Requirement already satisfied: parso<0.9.0,>=0.8.3 in /usr/local/lib/python3.10/dist-packages (from jedi>=0.16->ipython>=5.3.0->pyvis) (0.8.3)\n",
            "Requirement already satisfied: ptyprocess>=0.5 in /usr/local/lib/python3.10/dist-packages (from pexpect>4.3->ipython>=5.3.0->pyvis) (0.7.0)\n",
            "Requirement already satisfied: wcwidth in /usr/local/lib/python3.10/dist-packages (from prompt-toolkit!=3.0.0,!=3.0.1,<3.1.0,>=2.0.0->ipython>=5.3.0->pyvis) (0.2.13)\n",
            "Installing collected packages: jedi, pyvis\n",
            "Successfully installed jedi-0.19.1 pyvis-0.3.2\n"
          ]
        }
      ]
    },
    {
      "cell_type": "code",
      "source": [
        "import pandas as pd\n",
        "df = pd.read_csv(\"final_merged_discussions_data.csv\")\n",
        "df.info()"
      ],
      "metadata": {
        "colab": {
          "base_uri": "https://localhost:8080/"
        },
        "id": "edHAotq7g3N1",
        "outputId": "e12a1050-cd03-4c4d-abd1-59d6b7daddda"
      },
      "execution_count": 2,
      "outputs": [
        {
          "output_type": "stream",
          "name": "stdout",
          "text": [
            "<class 'pandas.core.frame.DataFrame'>\n",
            "RangeIndex: 4231 entries, 0 to 4230\n",
            "Data columns (total 13 columns):\n",
            " #   Column                                 Non-Null Count  Dtype  \n",
            "---  ------                                 --------------  -----  \n",
            " 0   discussion_title                       4224 non-null   object \n",
            " 1   discussion_thread_id                   4157 non-null   object \n",
            " 2   discussion_thread_created_at           4154 non-null   object \n",
            " 3   discussion_thread_author_id            4154 non-null   object \n",
            " 4   discussion_thread_author_affiliation   3172 non-null   object \n",
            " 5   discussion_thread_comment_count        4154 non-null   float64\n",
            " 6   discussion_answered_or_unanswered      4154 non-null   object \n",
            " 7   discussion_comment_id                  3693 non-null   object \n",
            " 8   discussion_parent_comment_id           2204 non-null   object \n",
            " 9   discussion_comment_created_at          2364 non-null   object \n",
            " 10  discussion_comment_author              3693 non-null   object \n",
            " 11  discussion_comment_author_affiliation  3533 non-null   object \n",
            " 12  discussion_comment_text                3693 non-null   object \n",
            "dtypes: float64(1), object(12)\n",
            "memory usage: 429.8+ KB\n"
          ]
        }
      ]
    },
    {
      "cell_type": "markdown",
      "source": [
        "Code 2: Varied sizes of the spheres"
      ],
      "metadata": {
        "id": "4GSFSjOmifAF"
      }
    },
    {
      "cell_type": "code",
      "source": [
        "pip install plotly"
      ],
      "metadata": {
        "colab": {
          "base_uri": "https://localhost:8080/"
        },
        "id": "qOwkXw0PocGO",
        "outputId": "20ddfc54-0562-49c3-eab8-41f7762688a9"
      },
      "execution_count": 3,
      "outputs": [
        {
          "output_type": "stream",
          "name": "stdout",
          "text": [
            "Requirement already satisfied: plotly in /usr/local/lib/python3.10/dist-packages (5.15.0)\n",
            "Requirement already satisfied: tenacity>=6.2.0 in /usr/local/lib/python3.10/dist-packages (from plotly) (8.2.3)\n",
            "Requirement already satisfied: packaging in /usr/local/lib/python3.10/dist-packages (from plotly) (23.2)\n"
          ]
        }
      ]
    },
    {
      "cell_type": "code",
      "source": [
        "import pandas as pd\n",
        "import plotly.express as px\n",
        "import plotly.graph_objects as go\n",
        "import itertools\n",
        "import numpy as np"
      ],
      "metadata": {
        "id": "WjKdOXvgYb6O"
      },
      "execution_count": 4,
      "outputs": []
    },
    {
      "cell_type": "code",
      "source": [
        "# Read the CSV file\n",
        "df = pd.read_csv(\"final_merged_discussions_data.csv\")\n",
        "\n",
        "# Drop rows where affiliation info is missing\n",
        "df = df.dropna(subset=['discussion_thread_author_affiliation', 'discussion_comment_author_affiliation'])\n",
        "\n",
        "# Create 'comment_or_reply' column\n",
        "df['comment_or_reply'] = df.apply(lambda row: 'comment' if row['discussion_thread_comment_count'] > 0 and pd.isna(row['discussion_parent_comment_id']) else 'reply', axis=1)\n",
        "\n",
        "# Additional calculations for inside/outside consumption and contribution\n",
        "df['inside_consumption'] = 0\n",
        "df['outside_consumption'] = 0\n",
        "df['inside_contribution'] = 0\n",
        "df['outside_contribution'] = 0"
      ],
      "metadata": {
        "id": "UkQL4byhrct-"
      },
      "execution_count": 5,
      "outputs": []
    },
    {
      "cell_type": "code",
      "source": [
        "### FINDING THE CONTRIBUTER-CONSUMER RELATIONSHIPS ###\n",
        "\n",
        "# Create pairs for the first scenario: thread creators and comment authors\n",
        "pairs_scenario_1 = df[df['comment_or_reply'].isin(['comment', 'reply'])][['discussion_thread_author_affiliation', 'discussion_comment_author_affiliation', 'discussion_thread_id']].values\n",
        "\n",
        "# Create pairs for the second scenario: comment authors (comment) and comment authors (reply) within the same thread\n",
        "pairs_scenario_2_consumer = df[df['comment_or_reply'] == 'comment'][['discussion_thread_id', 'discussion_comment_author_affiliation']].values\n",
        "pairs_scenario_2_contributor = df[df['comment_or_reply'] == 'reply'][['discussion_thread_id', 'discussion_comment_author_affiliation']].values\n",
        "\n",
        "# Ensure both scenarios have the same number of columns\n",
        "pairs_scenario_2_consumer = np.column_stack((pairs_scenario_2_consumer, np.empty(len(pairs_scenario_2_consumer))))\n",
        "pairs_scenario_2_contributor = np.column_stack((pairs_scenario_2_contributor, np.empty(len(pairs_scenario_2_contributor))))\n",
        "\n",
        "# Concatenate pairs from both scenarios\n",
        "pairs = np.concatenate([pairs_scenario_1, pairs_scenario_2_consumer, pairs_scenario_2_contributor])\n",
        "\n",
        "# Filter unique thread-consumer pairs using Pandas\n",
        "# Filter unique thread-consumer pairs\n",
        "# Convert relevant columns to strings before finding unique pairs\n",
        "pairs_str = pairs[:, [0, 2, 1]].astype(str)\n",
        "unique_thread_consumer_pairs = np.unique(pairs_str, axis=0)\n",
        "\n",
        "# Convert to DataFrame\n",
        "unique_thread_consumer_pairs_df = pd.DataFrame(unique_thread_consumer_pairs, columns=['discussion_thread_author_affiliation', 'discussion_thread_id', 'discussion_comment_author_affiliation'])\n",
        "unique_thread_consumer_pairs_df.drop_duplicates(inplace=True)\n",
        "\n",
        "# Convert back to NumPy array\n",
        "unique_thread_consumer_pairs = unique_thread_consumer_pairs_df.values\n",
        "\n",
        "# Filter unique thread-contributor pairs\n",
        "# Convert relevant columns to strings before finding unique pairs\n",
        "pairs_str_contributor = pairs[:, [0, 1, 2]].astype(str)\n",
        "unique_thread_contributor_pairs = np.unique(pairs_str_contributor, axis=0)\n",
        "\n",
        "# Concatenate both unique pairs\n",
        "unique_pairs = np.concatenate([unique_thread_consumer_pairs, unique_thread_contributor_pairs])"
      ],
      "metadata": {
        "id": "FId8ipbrraS0"
      },
      "execution_count": 6,
      "outputs": []
    },
    {
      "cell_type": "code",
      "source": [
        "### INSIDE-OUTSIDE CONTRIBUTION/CONSUMPTION LOGIC ###\n",
        "\n",
        "# Additional calculations for inside/outside opportunity\n",
        "df['inside_opportunity'] = 0\n",
        "df['outside_opportunity'] = 0\n",
        "\n",
        "# Iterate through pairs and apply the inside-outside contribution/consumption/opportunity logic\n",
        "for pair in unique_pairs:\n",
        "    consumer_affiliation, contributor_affiliation, thread_id = pair\n",
        "\n",
        "    if consumer_affiliation != contributor_affiliation:\n",
        "        # Different affiliations, increase outside contribution of contributor, outside consumption of consumer\n",
        "        df.loc[(df['comment_or_reply'].isin(['reply', 'comment'])) & (df['discussion_thread_author_affiliation'] == contributor_affiliation) & (df['discussion_thread_id'] == thread_id), 'outside_contribution'] += 1\n",
        "        df.loc[(df['comment_or_reply'].isin(['reply', 'comment'])) & (df['discussion_comment_author_affiliation'] == consumer_affiliation) & (df['discussion_thread_id'] == thread_id), 'outside_consumption'] += 1\n",
        "        # Increase outside opportunity\n",
        "        df.loc[(df['comment_or_reply'].isin(['reply', 'comment'])) & (df['discussion_comment_author_affiliation'] == consumer_affiliation) & (df['discussion_thread_author_affiliation'] == contributor_affiliation), 'outside_opportunity'] += 1\n",
        "    else:\n",
        "        # Same affiliation, increase inside contribution and inside consumption\n",
        "        df.loc[(df['comment_or_reply'].isin(['reply', 'comment'])) & (df['discussion_thread_author_affiliation'] == contributor_affiliation) & (df['discussion_thread_id'] == thread_id), 'inside_contribution'] += 1\n",
        "        df.loc[(df['comment_or_reply'].isin(['reply', 'comment'])) & (df['discussion_comment_author_affiliation'] == consumer_affiliation) & (df['discussion_thread_id'] == thread_id), 'inside_consumption'] += 1\n",
        "        # Increase inside opportunity\n",
        "        df.loc[(df['comment_or_reply'].isin(['reply', 'comment'])) & (df['discussion_comment_author_affiliation'] == consumer_affiliation) & (df['discussion_thread_author_affiliation'] == contributor_affiliation), 'inside_opportunity'] += 1\n",
        "\n",
        "# Calculate collaboration index\n",
        "df['collaboration_index'] = (\n",
        "    (df['inside_contribution'] / df['inside_opportunity']) /\n",
        "    (df['outside_contribution'] / df['outside_opportunity'])\n",
        ")"
      ],
      "metadata": {
        "id": "tAMd8icMrVj8"
      },
      "execution_count": 7,
      "outputs": []
    },
    {
      "cell_type": "code",
      "source": [
        "### INSIDE-OUTSIDE CONTRIBUTION/CONSUMPTION: VISUALIZATION ###\n",
        "\n",
        "# Group by organization and sum the counts for both contributor and consumer affiliations, including opportunity\n",
        "org_stats = df.groupby(['discussion_comment_author_affiliation', 'discussion_thread_author_affiliation']).agg({\n",
        "    'inside_consumption': 'sum',\n",
        "    'outside_consumption': 'sum',\n",
        "    'inside_contribution': 'sum',\n",
        "    'outside_contribution': 'sum',\n",
        "    'inside_opportunity': 'sum',\n",
        "    'outside_opportunity': 'sum',\n",
        "    'collaboration_index': 'mean'  # Include the collaboration index\n",
        "}).reset_index()\n",
        "\n",
        "# Combine both contributor and consumer affiliations for x-axis\n",
        "# Get unique affiliations for both contributors and consumers\n",
        "unique_affiliations = set(org_stats['discussion_comment_author_affiliation']).union(org_stats['discussion_thread_author_affiliation'])\n",
        "\n",
        "# Visualizations for organization stats, sorting by consumer-contributor affiliations\n",
        "fig11 = px.bar(org_stats, x='discussion_comment_author_affiliation', y='inside_consumption',\n",
        "               labels={'index': 'Organization', 'inside_consumption': 'Inside Consumption'},\n",
        "               title='Inside Consumption for Each Organization')\n",
        "\n",
        "fig12 = px.bar(org_stats, x='discussion_comment_author_affiliation', y='outside_consumption',\n",
        "               labels={'index': 'Organization', 'outside_consumption': 'Outside Consumption'},\n",
        "               title='Outside Consumption for Each Organization')\n",
        "\n",
        "fig13 = px.bar(org_stats, x='discussion_comment_author_affiliation', y='inside_contribution',\n",
        "               labels={'index': 'Organization', 'inside_contribution': 'Inside Contribution'},\n",
        "               title='Inside Contribution for Each Organization')\n",
        "\n",
        "fig14 = px.bar(org_stats, x='discussion_comment_author_affiliation', y='outside_contribution',\n",
        "               labels={'index': 'Organization', 'outside_contribution': 'Outside Contribution'},\n",
        "               title='Outside Contribution for Each Organization')\n",
        "\n",
        "fig15 = px.bar(org_stats, x='discussion_comment_author_affiliation', y='collaboration_index',\n",
        "               labels={'index': 'Organization', 'collaboration_index': 'Collaboration Index'},\n",
        "               title='Collaboration Index for Each Organization')\n",
        "\n",
        "# Update x-axis with unique affiliations\n",
        "fig11.update_xaxes({'categoryorder': 'array', 'categoryarray': list(unique_affiliations)})\n",
        "fig12.update_xaxes({'categoryorder': 'array', 'categoryarray': list(unique_affiliations)})\n",
        "fig13.update_xaxes({'categoryorder': 'array', 'categoryarray': list(unique_affiliations)})\n",
        "fig14.update_xaxes({'categoryorder': 'array', 'categoryarray': list(unique_affiliations)})\n",
        "fig15.update_xaxes({'categoryorder': 'array', 'categoryarray': list(unique_affiliations)})\n",
        "\n",
        "# Save plots as interactive HTML files\n",
        "fig11.write_html(\"inside_consumption_org.html\")\n",
        "fig12.write_html(\"outside_consumption_org.html\")\n",
        "fig13.write_html(\"inside_contribution_org.html\")\n",
        "fig14.write_html(\"outside_contribution_org.html\")\n",
        "fig15.write_html(\"collaboration_index_org.html\")"
      ],
      "metadata": {
        "id": "E5wLQOz6rRrw"
      },
      "execution_count": 8,
      "outputs": []
    },
    {
      "cell_type": "code",
      "source": [
        "# Create arrays to store question and answer counts\n",
        "question_count = []\n",
        "answer_count = []\n",
        "\n",
        "# Loop through unique pairs of user_1 and user_2\n",
        "for user_1 in df['discussion_thread_author_id'].unique():\n",
        "    for user_2 in df['discussion_comment_author'].unique():\n",
        "        # Filter rows for the current pair\n",
        "        pair_df = df[(df['discussion_thread_author_id'] == user_1) & (df['discussion_comment_author'] == user_2)]\n",
        "\n",
        "        # Calculate question and answer counts\n",
        "        question_count.append(pair_df[pair_df['comment_or_reply'] == 'comment'].shape[0])\n",
        "        answer_count.append(pair_df[pair_df['comment_or_reply'] == 'reply'].shape[0])\n",
        "\n",
        "# Create a DataFrame to store question and answer counts\n",
        "weights_df = pd.DataFrame({'question_count': question_count, 'answer_count': answer_count})\n",
        "\n",
        "# Save the weights DataFrame as CSV\n",
        "weights_df.to_csv(\"weights.csv\", index=False)"
      ],
      "metadata": {
        "id": "EZEOQzkxrGXt"
      },
      "execution_count": 9,
      "outputs": []
    },
    {
      "cell_type": "code",
      "source": [
        "# Identify thread starter, comment starter, and answerer\n",
        "thread_starters = df[df['discussion_thread_comment_count'] > 0].groupby('discussion_thread_author_id').first().reset_index()\n",
        "comment_starters = df[df['comment_or_reply'] == 'comment'].groupby('discussion_comment_author').first().reset_index()\n",
        "answerers = df[df['comment_or_reply'] == 'reply'].groupby('discussion_comment_author').first().reset_index()\n",
        "\n",
        "# Visualizations for thread starter, comment starter, and answerer\n",
        "fig_thread_starter = px.bar(thread_starters, x='discussion_thread_author_affiliation', title='Thread Starter by Organization')\n",
        "fig_comment_starter = px.bar(comment_starters, x='discussion_comment_author_affiliation', title='Comment Starter by Organization')\n",
        "fig_answerer = px.bar(answerers, x='discussion_comment_author_affiliation', title='Answerer by Organization')\n",
        "\n",
        "# Save plots as interactive HTML files\n",
        "fig_thread_starter.write_html(\"thread_starter_org.html\")\n",
        "fig_comment_starter.write_html(\"comment_starter_org.html\")\n",
        "fig_answerer.write_html(\"answerer_org.html\")"
      ],
      "metadata": {
        "id": "ijHSBzelrEWH"
      },
      "execution_count": 10,
      "outputs": []
    },
    {
      "cell_type": "code",
      "source": [
        "# Identify contributors and consumers for each user pair\n",
        "collaboration_stats = df[df['comment_or_reply'] == 'reply'].groupby(['discussion_thread_author_id', 'discussion_comment_author']).size().reset_index(name='collaboration_count')\n",
        "\n",
        "# Visualizations for collaboration stats\n",
        "fig_collaboration = px.scatter(collaboration_stats, x='discussion_thread_author_id', y='discussion_comment_author', size='collaboration_count',\n",
        "                               labels={'discussion_thread_author_id': 'Thread Author', 'discussion_comment_author': 'Comment Author', 'collaboration_count': 'Collaboration Count'},\n",
        "                               title='Collaboration of One User with Another')\n",
        "\n",
        "# Save the plot as an interactive HTML file\n",
        "fig_collaboration.write_html(\"collaboration_stats.html\")"
      ],
      "metadata": {
        "id": "yG8cLgsvrCMt"
      },
      "execution_count": 11,
      "outputs": []
    },
    {
      "cell_type": "code",
      "source": [
        "# Contribution and consumption of a specific organization\n",
        "org_contribution = df.groupby('discussion_comment_author_affiliation')['inside_contribution', 'outside_contribution'].sum().reset_index()\n",
        "org_consumption = df.groupby('discussion_comment_author_affiliation')['inside_consumption', 'outside_consumption'].sum().reset_index()\n",
        "\n",
        "# Visualizations for organization contribution and consumption\n",
        "fig_org_contribution = px.bar(org_contribution, x='discussion_comment_author_affiliation', y=['inside_contribution', 'outside_contribution'],\n",
        "                               labels={'index': 'Organization', 'value': 'Count'},\n",
        "                               title='Contribution of Each Organization')\n",
        "\n",
        "fig_org_consumption = px.bar(org_consumption, x='discussion_comment_author_affiliation', y=['inside_consumption', 'outside_consumption'],\n",
        "                               labels={'index': 'Organization', 'value': 'Count'},\n",
        "                               title='Consumption of Each Organization')\n",
        "\n",
        "# Save plots as interactive HTML files\n",
        "fig_org_contribution.write_html(\"org_contribution.html\")\n",
        "fig_org_consumption.write_html(\"org_consumption.html\")"
      ],
      "metadata": {
        "colab": {
          "base_uri": "https://localhost:8080/"
        },
        "id": "oQC3M31IrASA",
        "outputId": "37bffa97-cd88-4619-93bf-2d454b3756d2"
      },
      "execution_count": 12,
      "outputs": [
        {
          "output_type": "stream",
          "name": "stderr",
          "text": [
            "<ipython-input-12-e558fb4c73e6>:2: FutureWarning:\n",
            "\n",
            "Indexing with multiple keys (implicitly converted to a tuple of keys) will be deprecated, use a list instead.\n",
            "\n",
            "<ipython-input-12-e558fb4c73e6>:3: FutureWarning:\n",
            "\n",
            "Indexing with multiple keys (implicitly converted to a tuple of keys) will be deprecated, use a list instead.\n",
            "\n"
          ]
        }
      ]
    },
    {
      "cell_type": "code",
      "source": [
        "# Initialize inside and outside contribution dictionaries for the fantastic collaboration figure\n",
        "inside_contribution_dict = {}\n",
        "outside_contribution_dict = {}\n",
        "\n",
        "# Iterate through rows for the fantastic collaboration figure\n",
        "for index, row in df.iterrows():\n",
        "    # Check if it's a comment (consumer-contributor relationship)\n",
        "    if row['comment_or_reply'] == 'reply':\n",
        "        consumer_affiliation = row['discussion_comment_author_affiliation']\n",
        "        contributor_affiliation = row['discussion_thread_author_affiliation']\n",
        "\n",
        "        # Increment inside or outside contribution based on affiliations\n",
        "        if consumer_affiliation == contributor_affiliation:\n",
        "            inside_contribution_dict[consumer_affiliation] = inside_contribution_dict.get(consumer_affiliation, 0) + 1\n",
        "        else:\n",
        "            outside_contribution_dict[contributor_affiliation] = outside_contribution_dict.get(contributor_affiliation, 0) + 1\n",
        "\n",
        "# Create DataFrames for inside and outside contribution for the fantastic collaboration figure\n",
        "inside_contribution_df = pd.DataFrame(list(inside_contribution_dict.items()), columns=['discussion_comment_author_affiliation', 'inside_contribution'])\n",
        "outside_contribution_df = pd.DataFrame(list(outside_contribution_dict.items()), columns=['discussion_comment_author_affiliation', 'outside_contribution'])"
      ],
      "metadata": {
        "id": "2CVaaX8Hq9XF"
      },
      "execution_count": 13,
      "outputs": []
    },
    {
      "cell_type": "code",
      "source": [
        "# Merge inside and outside contribution DataFrames for the fantastic collaboration figure\n",
        "affiliation_contributions_df = pd.merge(inside_contribution_df, outside_contribution_df, on='discussion_comment_author_affiliation', how='outer')\n",
        "\n",
        "# Fill NaN values with 0 for the fantastic collaboration figure\n",
        "affiliation_contributions_df = affiliation_contributions_df.fillna(0)"
      ],
      "metadata": {
        "id": "yuwCnuAXq6mW"
      },
      "execution_count": 14,
      "outputs": []
    },
    {
      "cell_type": "code",
      "source": [
        "# Collaboration stats for affiliations for the fantastic collaboration figure\n",
        "affiliation_collaboration = df[df['comment_or_reply'] == 'reply'].groupby(['discussion_thread_author_affiliation', 'discussion_comment_author_affiliation']).apply(lambda x: pd.Series({\n",
        "    'inside_contribution': (x['discussion_comment_author_affiliation'] == x['discussion_thread_author_affiliation']).sum(),\n",
        "    'outside_contribution': (x['discussion_comment_author_affiliation'] != x['discussion_thread_author_affiliation']).sum(),\n",
        "    'question_count': x['discussion_thread_comment_count'].sum(),\n",
        "    'answer_count': x['discussion_comment_author'].count()\n",
        "})).reset_index()\n",
        "\n",
        "# Fill NaN values with 0 for the fantastic collaboration figure\n",
        "affiliation_collaboration = affiliation_collaboration.fillna(0)\n",
        "\n",
        "# Calculate collaboration parameter for the fantastic collaboration figure\n",
        "affiliation_collaboration['collaboration_parameter'] = (affiliation_collaboration['answer_count'] / affiliation_collaboration['question_count']) / (\n",
        "    affiliation_collaboration['answer_count'] / affiliation_collaboration['question_count']\n",
        ")"
      ],
      "metadata": {
        "id": "zjzqst19q3qO"
      },
      "execution_count": 15,
      "outputs": []
    },
    {
      "cell_type": "code",
      "source": [
        "# Create a complete grid for affiliations for the fantastic collaboration figure\n",
        "unique_affiliations = df['discussion_comment_author_affiliation'].unique()"
      ],
      "metadata": {
        "id": "v-B_5lScq1hW"
      },
      "execution_count": 16,
      "outputs": []
    },
    {
      "cell_type": "code",
      "source": [
        "affiliation_grid = pd.DataFrame(list(itertools.product(unique_affiliations, repeat=2)), columns=['discussion_thread_author_affiliation', 'discussion_comment_author_affiliation'])\n",
        "\n",
        "# Merge the grid with collaboration parameters for the fantastic collaboration figure\n",
        "affiliation_grid = pd.merge(affiliation_grid, affiliation_collaboration, on=['discussion_thread_author_affiliation', 'discussion_comment_author_affiliation'], how='left')\n",
        "\n",
        "# Replace NaN values with 0 in inside_contribution and outside_contribution columns for the fantastic collaboration figure\n",
        "affiliation_grid['inside_contribution'] = affiliation_grid['inside_contribution'].fillna(0)\n",
        "affiliation_grid['outside_contribution'] = affiliation_grid['outside_contribution'].fillna(0)\n",
        "\n",
        "# Calculate inside and outside collaboration based on the provided logic for the fantastic collaboration figure\n",
        "affiliation_grid['inside_collaboration'] = (affiliation_grid['answer_count'] / affiliation_grid['question_count']) * affiliation_grid['inside_contribution']\n",
        "affiliation_grid['outside_collaboration'] = (affiliation_grid['answer_count'] / affiliation_grid['question_count']) * affiliation_grid['outside_contribution']\n",
        "\n",
        "# Replace NaN values with 0 in inside_collaboration and outside_collaboration columns for the fantastic collaboration figure\n",
        "affiliation_grid['inside_collaboration'] = affiliation_grid['inside_collaboration'].fillna(0)\n",
        "affiliation_grid['outside_collaboration'] = affiliation_grid['outside_collaboration'].fillna(0)"
      ],
      "metadata": {
        "id": "DNqUBvSYqzKI"
      },
      "execution_count": 17,
      "outputs": []
    },
    {
      "cell_type": "code",
      "source": [
        "# Create a fantastic figure showcasing the contribution of each affiliation with respect to a specific organization\n",
        "fig_fantastic_collaboration = go.Figure()\n",
        "\n",
        "# Add scatter plot for inside collaboration for the fantastic collaboration figure\n",
        "fig_fantastic_collaboration.add_trace(go.Scatter(\n",
        "    x=affiliation_grid['discussion_thread_author_affiliation'],\n",
        "    y=affiliation_grid['discussion_comment_author_affiliation'],\n",
        "    mode='markers',\n",
        "    marker=dict(\n",
        "        size=affiliation_grid['inside_collaboration'],\n",
        "        color=affiliation_grid['inside_collaboration'],\n",
        "        colorscale='Viridis',\n",
        "        opacity=0.8\n",
        "    ),\n",
        "    text=affiliation_grid['inside_collaboration'],\n",
        "    hoverinfo='text'\n",
        "))\n",
        "\n",
        "# Add scatter plot for outside collaboration for the fantastic collaboration figure\n",
        "fig_fantastic_collaboration.add_trace(go.Scatter(\n",
        "    x=affiliation_grid['discussion_thread_author_affiliation'],\n",
        "    y=affiliation_grid['discussion_comment_author_affiliation'],\n",
        "    mode='markers',\n",
        "    marker=dict(\n",
        "        size=affiliation_grid['outside_collaboration'],\n",
        "        color=affiliation_grid['outside_collaboration'],\n",
        "        colorscale='Viridis',\n",
        "        opacity=0.8\n",
        "    ),\n",
        "    text=affiliation_grid['outside_collaboration'],\n",
        "    hoverinfo='text'\n",
        "))\n",
        "\n",
        "# Customize layout for the fantastic collaboration figure\n",
        "fig_fantastic_collaboration.update_layout(\n",
        "    title='Fantastic Collaboration Figure',\n",
        "    xaxis=dict(title='Discussion Thread Author Affiliation'),\n",
        "    yaxis=dict(title='Discussion Comment Author Affiliation'),\n",
        "    showlegend=False\n",
        ")\n",
        "\n",
        "# Save the fantastic figure as an interactive HTML file for the fantastic collaboration figure\n",
        "fig_fantastic_collaboration.write_html(\"fantastic_collaboration.html\")"
      ],
      "metadata": {
        "id": "IfJgJ2iVqwrm"
      },
      "execution_count": 18,
      "outputs": []
    },
    {
      "cell_type": "code",
      "source": [
        "pip install networkx"
      ],
      "metadata": {
        "colab": {
          "base_uri": "https://localhost:8080/"
        },
        "id": "aH0wqm6rdWi6",
        "outputId": "118d5130-78bc-4b2c-b89d-6f8f514cc69e"
      },
      "execution_count": 19,
      "outputs": [
        {
          "output_type": "stream",
          "name": "stdout",
          "text": [
            "Requirement already satisfied: networkx in /usr/local/lib/python3.10/dist-packages (3.2.1)\n"
          ]
        }
      ]
    },
    {
      "cell_type": "code",
      "source": [
        "import pandas as pd\n",
        "import numpy as np\n",
        "import plotly.graph_objects as go\n",
        "import networkx as nx"
      ],
      "metadata": {
        "id": "t5AiXNm2dUK3"
      },
      "execution_count": 20,
      "outputs": []
    },
    {
      "cell_type": "code",
      "source": [
        "# Read the CSV file\n",
        "df = pd.read_csv(\"final_merged_discussions_data.csv\")\n",
        "\n",
        "# Drop rows where affiliation info is missing\n",
        "df = df.dropna(subset=['discussion_thread_author_affiliation', 'discussion_comment_author_affiliation'])\n",
        "\n",
        "# Create 'comment_or_reply' column\n",
        "df['comment_or_reply'] = df.apply(lambda row: 'comment' if row['discussion_thread_comment_count'] > 0 and pd.isna(row['discussion_parent_comment_id']) else 'reply', axis=1)\n",
        "\n",
        "# Additional calculations for inside/outside consumption and contribution\n",
        "df['inside_consumption'] = 0\n",
        "df['outside_consumption'] = 0\n",
        "df['inside_contribution'] = 0\n",
        "df['outside_contribution'] = 0"
      ],
      "metadata": {
        "id": "21raKTCZr7dl"
      },
      "execution_count": 21,
      "outputs": []
    },
    {
      "cell_type": "code",
      "source": [
        "### FINDING THE CONTRIBUTER-CONSUMER RELATIONSHIPS ###\n",
        "\n",
        "# Create pairs for the first scenario: thread creators and comment authors\n",
        "pairs_scenario_1 = df[df['comment_or_reply'].isin(['comment', 'reply'])][['discussion_thread_author_affiliation', 'discussion_comment_author_affiliation', 'discussion_thread_id']].values\n",
        "\n",
        "# Create pairs for the second scenario: comment authors (comment) and comment authors (reply) within the same thread\n",
        "pairs_scenario_2_consumer = df[df['comment_or_reply'] == 'comment'][['discussion_thread_id', 'discussion_comment_author_affiliation']].values\n",
        "pairs_scenario_2_contributor = df[df['comment_or_reply'] == 'reply'][['discussion_thread_id', 'discussion_comment_author_affiliation']].values\n",
        "\n",
        "# Ensure both scenarios have the same number of columns\n",
        "pairs_scenario_2_consumer = np.column_stack((pairs_scenario_2_consumer, np.empty(len(pairs_scenario_2_consumer))))\n",
        "pairs_scenario_2_contributor = np.column_stack((pairs_scenario_2_contributor, np.empty(len(pairs_scenario_2_contributor))))\n",
        "\n",
        "# Concatenate pairs from both scenarios\n",
        "pairs = np.concatenate([pairs_scenario_1, pairs_scenario_2_consumer, pairs_scenario_2_contributor])\n",
        "\n",
        "# Filter unique thread-consumer pairs using Pandas\n",
        "# Filter unique thread-consumer pairs\n",
        "# Convert relevant columns to strings before finding unique pairs\n",
        "pairs_str = pairs[:, [0, 2, 1]].astype(str)\n",
        "unique_thread_consumer_pairs = np.unique(pairs_str, axis=0)\n",
        "\n",
        "# Convert to DataFrame\n",
        "unique_thread_consumer_pairs_df = pd.DataFrame(unique_thread_consumer_pairs, columns=['discussion_thread_author_affiliation', 'discussion_thread_id', 'discussion_comment_author_affiliation'])\n",
        "unique_thread_consumer_pairs_df.drop_duplicates(inplace=True)\n",
        "\n",
        "# Convert back to NumPy array\n",
        "unique_thread_consumer_pairs = unique_thread_consumer_pairs_df.values\n",
        "\n",
        "# Filter unique thread-contributor pairs\n",
        "# Convert relevant columns to strings before finding unique pairs\n",
        "pairs_str_contributor = pairs[:, [0, 1, 2]].astype(str)\n",
        "unique_thread_contributor_pairs = np.unique(pairs_str_contributor, axis=0)\n",
        "\n",
        "# Concatenate both unique pairs\n",
        "unique_pairs = np.concatenate([unique_thread_consumer_pairs, unique_thread_contributor_pairs])"
      ],
      "metadata": {
        "id": "LRRVv8Y8r46H"
      },
      "execution_count": 22,
      "outputs": []
    },
    {
      "cell_type": "code",
      "source": [
        "### INSIDE-OUTSIDE CONTRIBUTION/CONSUMPTION LOGIC ###\n",
        "\n",
        "# Additional calculations for inside/outside opportunity\n",
        "df['inside_opportunity'] = 0\n",
        "df['outside_opportunity'] = 0\n",
        "\n",
        "# Create a dictionary to store affiliations\n",
        "affiliation_dict = dict(zip(df['discussion_comment_author_affiliation'], df['discussion_comment_author_affiliation']))\n",
        "affiliation_dict.update(dict(zip(df['discussion_thread_id'], df['discussion_thread_author_affiliation'])))"
      ],
      "metadata": {
        "id": "9va9yHVcr1-W"
      },
      "execution_count": 23,
      "outputs": []
    },
    {
      "cell_type": "code",
      "source": [
        "# Iterate through pairs and apply the inside-outside contribution/consumption/opportunity logic\n",
        "for pair in unique_pairs:\n",
        "    consumer_affiliation, contributor_affiliation, thread_id = pair\n",
        "\n",
        "    # Check if the affiliations are in the dictionary before accessing them\n",
        "    if consumer_affiliation in affiliation_dict and contributor_affiliation in affiliation_dict:\n",
        "        if consumer_affiliation != contributor_affiliation:\n",
        "            # Different affiliations, increase outside contribution of contributor, outside consumption of consumer\n",
        "            df.loc[(df['comment_or_reply'].isin(['reply', 'comment'])) & (df['discussion_thread_author_affiliation'] == contributor_affiliation) & (df['discussion_thread_id'] == thread_id), 'outside_contribution'] += 1\n",
        "            df.loc[(df['comment_or_reply'].isin(['reply', 'comment'])) & (df['discussion_comment_author_affiliation'] == consumer_affiliation) & (df['discussion_thread_id'] == thread_id), 'outside_consumption'] += 1\n",
        "            # Increase outside opportunity\n",
        "            if affiliation_dict[consumer_affiliation] == affiliation_dict[contributor_affiliation]:\n",
        "                df.loc[(df['comment_or_reply'].isin(['reply', 'comment'])) & (df['discussion_comment_author_affiliation'] == consumer_affiliation) & (df['discussion_thread_author_affiliation'] == contributor_affiliation), 'outside_opportunity'] += 1\n",
        "                #print(df['outside_opportunity'])\n",
        "        else:\n",
        "            # Same affiliation, increase inside contribution and inside consumption\n",
        "            df.loc[(df['comment_or_reply'].isin(['reply', 'comment'])) & (df['discussion_thread_author_affiliation'] == contributor_affiliation) & (df['discussion_thread_id'] == thread_id), 'inside_contribution'] += 1\n",
        "            df.loc[(df['comment_or_reply'].isin(['reply', 'comment'])) & (df['discussion_comment_author_affiliation'] == consumer_affiliation) & (df['discussion_thread_id'] == thread_id), 'inside_consumption'] += 1\n",
        "            # Increase inside opportunity\n",
        "            if affiliation_dict[consumer_affiliation] == affiliation_dict[contributor_affiliation]:\n",
        "                df.loc[(df['comment_or_reply'].isin(['reply', 'comment'])) & (df['discussion_comment_author_affiliation'] == consumer_affiliation) & (df['discussion_thread_author_affiliation'] == contributor_affiliation), 'inside_opportunity'] += 1\n",
        "                #print(df['inside_opportunity'])\n",
        "\n",
        "# Calculate collaboration index\n",
        "df['collaboration_index'] = (\n",
        "    (df['inside_contribution'] / df['inside_opportunity']) /\n",
        "    (df['outside_contribution'] / df['outside_opportunity'])\n",
        ")"
      ],
      "metadata": {
        "id": "-g1Pvp8Krzva"
      },
      "execution_count": 24,
      "outputs": []
    },
    {
      "cell_type": "code",
      "source": [
        "### NETWORK ANALYSIS AND VISUALIZATION ###\n",
        "\n",
        "# Create a directed graph\n",
        "G = nx.DiGraph()\n",
        "\n",
        "# Add nodes for contributors and consumers\n",
        "contributors = df['discussion_comment_author_affiliation'].unique()\n",
        "consumers = df['discussion_thread_author_affiliation'].unique()\n",
        "G.add_nodes_from(contributors, bipartite=0)\n",
        "G.add_nodes_from(consumers, bipartite=1)\n",
        "\n",
        "# Add edges with collaboration index as weights\n",
        "edges = df[['discussion_comment_author_affiliation', 'discussion_thread_author_affiliation', 'collaboration_index']]\n",
        "edges = edges.rename(columns={'discussion_comment_author_affiliation': 'source', 'discussion_thread_author_affiliation': 'target'})\n",
        "edges = edges.dropna()  # Drop rows with missing collaboration indexes\n",
        "edges = edges[edges['collaboration_index'] != 0]  # Drop edges with collaboration index 0\n",
        "edges = edges[edges['collaboration_index'].notna()]  # Drop rows with NaN collaboration indexes\n",
        "\n",
        "# Add edges to the graph\n",
        "G.add_weighted_edges_from(edges.values)\n",
        "\n",
        "# Get node positions for bipartite layout\n",
        "pos = {node: (1, i) for i, node in enumerate(contributors)}\n",
        "pos.update({node: (2, i) for i, node in enumerate(consumers)})"
      ],
      "metadata": {
        "id": "7T4ihqlcrwdk"
      },
      "execution_count": 25,
      "outputs": []
    },
    {
      "cell_type": "code",
      "source": [
        "# Create an edge trace\n",
        "edge_x = []\n",
        "edge_y = []\n",
        "edge_weights = []\n",
        "for edge in G.edges(data=True):\n",
        "    x0, y0 = pos[edge[0]]\n",
        "    x1, y1 = pos[edge[1]]\n",
        "    edge_x.append(x0)\n",
        "    edge_x.append(x1)\n",
        "    edge_x.append(None)\n",
        "    edge_y.append(y0)\n",
        "    edge_y.append(y1)\n",
        "    edge_y.append(None)\n",
        "    edge_weights.append(edge[2]['weight'])\n",
        "\n",
        "# Create edge trace\n",
        "edge_trace = go.Scatter(\n",
        "    x=edge_x, y=edge_y,\n",
        "    line=dict(width=0.5, color='#888'),\n",
        "    hoverinfo='text',\n",
        "    text=edge_weights,\n",
        "    mode='lines')\n",
        "\n",
        "# Create node traces for contributors and consumers\n",
        "node_contributor_trace = go.Scatter(\n",
        "    x=[], y=[],\n",
        "    text=[],\n",
        "    mode='markers',\n",
        "    hoverinfo='text',\n",
        "    marker=dict(\n",
        "        showscale=True,\n",
        "        colorscale='YlGnBu',\n",
        "        size=10,\n",
        "        colorbar=dict(\n",
        "            thickness=15,\n",
        "            title='Node Connections',\n",
        "            xanchor='left',\n",
        "            titleside='right'\n",
        "        )\n",
        "    )\n",
        ")\n",
        "\n",
        "node_consumer_trace = go.Scatter(\n",
        "    x=[], y=[],\n",
        "    text=[],\n",
        "    mode='markers',\n",
        "    hoverinfo='text',\n",
        "    marker=dict(\n",
        "        showscale=True,\n",
        "        colorscale='YlGnBu',\n",
        "        size=10,\n",
        "        colorbar=dict(\n",
        "            thickness=15,\n",
        "            title='Node Connections',\n",
        "            xanchor='left',\n",
        "            titleside='right'\n",
        "        )\n",
        "    )\n",
        ")"
      ],
      "metadata": {
        "id": "REvxGJk6rszF"
      },
      "execution_count": 26,
      "outputs": []
    },
    {
      "cell_type": "code",
      "source": [
        "# Add nodes and edges to the figure\n",
        "fig_network = go.Figure(data=[edge_trace, node_contributor_trace, node_consumer_trace],\n",
        "                        layout=go.Layout(\n",
        "                            showlegend=False,\n",
        "                            hovermode='closest',\n",
        "                            margin=dict(b=0, l=0, r=0, t=0),\n",
        "                            xaxis=dict(showgrid=False, zeroline=False, showticklabels=False),\n",
        "                            yaxis=dict(showgrid=False, zeroline=False, showticklabels=False)))\n",
        "\n",
        "# Update node positions\n",
        "node_positions_contributors = pos\n",
        "node_positions_consumers = pos\n",
        "node_contributor_trace['x'] = [node_positions_contributors[node][0] for node in G.nodes() if G.nodes[node]['bipartite'] == 0]\n",
        "node_contributor_trace['y'] = [node_positions_contributors[node][1] for node in G.nodes() if G.nodes[node]['bipartite'] == 0]\n",
        "node_contributor_trace['text'] = [f\"{node}<br>Collaboration Index: {G.nodes[node].get('collaboration_index', 'N/A')}\" for node in G.nodes() if G.nodes[node]['bipartite'] == 0]\n",
        "\n",
        "node_consumer_trace['x'] = [node_positions_consumers[node][0] for node in G.nodes() if G.nodes[node]['bipartite'] == 1]\n",
        "node_consumer_trace['y'] = [node_positions_consumers[node][1] for node in G.nodes() if G.nodes[node]['bipartite'] == 1]\n",
        "node_consumer_trace['text'] = [f\"{node}<br>Collaboration Index: {G.nodes[node].get('collaboration_index', 'N/A')}\" for node in G.nodes() if G.nodes[node]['bipartite'] == 1]\n",
        "\n",
        "\n",
        "# Update color scales\n",
        "node_contributor_trace['marker']['color'] = [G.nodes[node].get('collaboration_index', 0) for node in G.nodes() if G.nodes[node]['bipartite'] == 0]\n",
        "node_contributor_trace['marker']['colorbar']['tickvals'] = node_contributor_trace['marker']['color']\n",
        "node_contributor_trace['marker']['colorbar']['ticktext'] = [f\"{color_value:.2f}\" for color_value in node_contributor_trace['marker']['color']]\n",
        "\n",
        "node_consumer_trace['marker']['color'] = [G.nodes[node].get('collaboration_index', 0) for node in G.nodes() if G.nodes[node]['bipartite'] == 1]\n",
        "node_consumer_trace['marker']['colorbar']['tickvals'] = node_consumer_trace['marker']['color']\n",
        "node_consumer_trace['marker']['colorbar']['ticktext'] = [f\"{color_value:.2f}\" for color_value in node_consumer_trace['marker']['color']]\n",
        "\n",
        "# Show the figure\n",
        "fig_network.show()"
      ],
      "metadata": {
        "colab": {
          "base_uri": "https://localhost:8080/",
          "height": 542
        },
        "id": "rXpR4gkPrqGU",
        "outputId": "19040965-a165-42d8-ad35-071c223b49e3"
      },
      "execution_count": 27,
      "outputs": [
        {
          "output_type": "display_data",
          "data": {
            "text/html": [
              "<html>\n",
              "<head><meta charset=\"utf-8\" /></head>\n",
              "<body>\n",
              "    <div>            <script src=\"https://cdnjs.cloudflare.com/ajax/libs/mathjax/2.7.5/MathJax.js?config=TeX-AMS-MML_SVG\"></script><script type=\"text/javascript\">if (window.MathJax && window.MathJax.Hub && window.MathJax.Hub.Config) {window.MathJax.Hub.Config({SVG: {font: \"STIX-Web\"}});}</script>                <script type=\"text/javascript\">window.PlotlyConfig = {MathJaxConfig: 'local'};</script>\n",
              "        <script charset=\"utf-8\" src=\"https://cdn.plot.ly/plotly-2.24.1.min.js\"></script>                <div id=\"1ef45aec-0918-4be2-bd6f-3c1e1954b558\" class=\"plotly-graph-div\" style=\"height:525px; width:100%;\"></div>            <script type=\"text/javascript\">                                    window.PLOTLYENV=window.PLOTLYENV || {};                                    if (document.getElementById(\"1ef45aec-0918-4be2-bd6f-3c1e1954b558\")) {                    Plotly.newPlot(                        \"1ef45aec-0918-4be2-bd6f-3c1e1954b558\",                        [{\"hoverinfo\":\"text\",\"line\":{\"color\":\"#888\",\"width\":0.5},\"mode\":\"lines\",\"text\":[],\"x\":[],\"y\":[],\"type\":\"scatter\"},{\"hoverinfo\":\"text\",\"marker\":{\"colorbar\":{\"thickness\":15,\"title\":{\"side\":\"right\",\"text\":\"Node Connections\"},\"xanchor\":\"left\"},\"colorscale\":[[0.0,\"rgb(255,255,217)\"],[0.125,\"rgb(237,248,177)\"],[0.25,\"rgb(199,233,180)\"],[0.375,\"rgb(127,205,187)\"],[0.5,\"rgb(65,182,196)\"],[0.625,\"rgb(29,145,192)\"],[0.75,\"rgb(34,94,168)\"],[0.875,\"rgb(37,52,148)\"],[1.0,\"rgb(8,29,88)\"]],\"showscale\":true,\"size\":10},\"mode\":\"markers\",\"text\":[],\"x\":[],\"y\":[],\"type\":\"scatter\"},{\"hoverinfo\":\"text\",\"marker\":{\"colorbar\":{\"thickness\":15,\"title\":{\"side\":\"right\",\"text\":\"Node Connections\"},\"xanchor\":\"left\"},\"colorscale\":[[0.0,\"rgb(255,255,217)\"],[0.125,\"rgb(237,248,177)\"],[0.25,\"rgb(199,233,180)\"],[0.375,\"rgb(127,205,187)\"],[0.5,\"rgb(65,182,196)\"],[0.625,\"rgb(29,145,192)\"],[0.75,\"rgb(34,94,168)\"],[0.875,\"rgb(37,52,148)\"],[1.0,\"rgb(8,29,88)\"]],\"showscale\":true,\"size\":10},\"mode\":\"markers\",\"text\":[],\"x\":[],\"y\":[],\"type\":\"scatter\"}],                        {\"hovermode\":\"closest\",\"margin\":{\"b\":0,\"l\":0,\"r\":0,\"t\":0},\"showlegend\":false,\"xaxis\":{\"showgrid\":false,\"showticklabels\":false,\"zeroline\":false},\"yaxis\":{\"showgrid\":false,\"showticklabels\":false,\"zeroline\":false},\"template\":{\"data\":{\"histogram2dcontour\":[{\"type\":\"histogram2dcontour\",\"colorbar\":{\"outlinewidth\":0,\"ticks\":\"\"},\"colorscale\":[[0.0,\"#0d0887\"],[0.1111111111111111,\"#46039f\"],[0.2222222222222222,\"#7201a8\"],[0.3333333333333333,\"#9c179e\"],[0.4444444444444444,\"#bd3786\"],[0.5555555555555556,\"#d8576b\"],[0.6666666666666666,\"#ed7953\"],[0.7777777777777778,\"#fb9f3a\"],[0.8888888888888888,\"#fdca26\"],[1.0,\"#f0f921\"]]}],\"choropleth\":[{\"type\":\"choropleth\",\"colorbar\":{\"outlinewidth\":0,\"ticks\":\"\"}}],\"histogram2d\":[{\"type\":\"histogram2d\",\"colorbar\":{\"outlinewidth\":0,\"ticks\":\"\"},\"colorscale\":[[0.0,\"#0d0887\"],[0.1111111111111111,\"#46039f\"],[0.2222222222222222,\"#7201a8\"],[0.3333333333333333,\"#9c179e\"],[0.4444444444444444,\"#bd3786\"],[0.5555555555555556,\"#d8576b\"],[0.6666666666666666,\"#ed7953\"],[0.7777777777777778,\"#fb9f3a\"],[0.8888888888888888,\"#fdca26\"],[1.0,\"#f0f921\"]]}],\"heatmap\":[{\"type\":\"heatmap\",\"colorbar\":{\"outlinewidth\":0,\"ticks\":\"\"},\"colorscale\":[[0.0,\"#0d0887\"],[0.1111111111111111,\"#46039f\"],[0.2222222222222222,\"#7201a8\"],[0.3333333333333333,\"#9c179e\"],[0.4444444444444444,\"#bd3786\"],[0.5555555555555556,\"#d8576b\"],[0.6666666666666666,\"#ed7953\"],[0.7777777777777778,\"#fb9f3a\"],[0.8888888888888888,\"#fdca26\"],[1.0,\"#f0f921\"]]}],\"heatmapgl\":[{\"type\":\"heatmapgl\",\"colorbar\":{\"outlinewidth\":0,\"ticks\":\"\"},\"colorscale\":[[0.0,\"#0d0887\"],[0.1111111111111111,\"#46039f\"],[0.2222222222222222,\"#7201a8\"],[0.3333333333333333,\"#9c179e\"],[0.4444444444444444,\"#bd3786\"],[0.5555555555555556,\"#d8576b\"],[0.6666666666666666,\"#ed7953\"],[0.7777777777777778,\"#fb9f3a\"],[0.8888888888888888,\"#fdca26\"],[1.0,\"#f0f921\"]]}],\"contourcarpet\":[{\"type\":\"contourcarpet\",\"colorbar\":{\"outlinewidth\":0,\"ticks\":\"\"}}],\"contour\":[{\"type\":\"contour\",\"colorbar\":{\"outlinewidth\":0,\"ticks\":\"\"},\"colorscale\":[[0.0,\"#0d0887\"],[0.1111111111111111,\"#46039f\"],[0.2222222222222222,\"#7201a8\"],[0.3333333333333333,\"#9c179e\"],[0.4444444444444444,\"#bd3786\"],[0.5555555555555556,\"#d8576b\"],[0.6666666666666666,\"#ed7953\"],[0.7777777777777778,\"#fb9f3a\"],[0.8888888888888888,\"#fdca26\"],[1.0,\"#f0f921\"]]}],\"surface\":[{\"type\":\"surface\",\"colorbar\":{\"outlinewidth\":0,\"ticks\":\"\"},\"colorscale\":[[0.0,\"#0d0887\"],[0.1111111111111111,\"#46039f\"],[0.2222222222222222,\"#7201a8\"],[0.3333333333333333,\"#9c179e\"],[0.4444444444444444,\"#bd3786\"],[0.5555555555555556,\"#d8576b\"],[0.6666666666666666,\"#ed7953\"],[0.7777777777777778,\"#fb9f3a\"],[0.8888888888888888,\"#fdca26\"],[1.0,\"#f0f921\"]]}],\"mesh3d\":[{\"type\":\"mesh3d\",\"colorbar\":{\"outlinewidth\":0,\"ticks\":\"\"}}],\"scatter\":[{\"fillpattern\":{\"fillmode\":\"overlay\",\"size\":10,\"solidity\":0.2},\"type\":\"scatter\"}],\"parcoords\":[{\"type\":\"parcoords\",\"line\":{\"colorbar\":{\"outlinewidth\":0,\"ticks\":\"\"}}}],\"scatterpolargl\":[{\"type\":\"scatterpolargl\",\"marker\":{\"colorbar\":{\"outlinewidth\":0,\"ticks\":\"\"}}}],\"bar\":[{\"error_x\":{\"color\":\"#2a3f5f\"},\"error_y\":{\"color\":\"#2a3f5f\"},\"marker\":{\"line\":{\"color\":\"#E5ECF6\",\"width\":0.5},\"pattern\":{\"fillmode\":\"overlay\",\"size\":10,\"solidity\":0.2}},\"type\":\"bar\"}],\"scattergeo\":[{\"type\":\"scattergeo\",\"marker\":{\"colorbar\":{\"outlinewidth\":0,\"ticks\":\"\"}}}],\"scatterpolar\":[{\"type\":\"scatterpolar\",\"marker\":{\"colorbar\":{\"outlinewidth\":0,\"ticks\":\"\"}}}],\"histogram\":[{\"marker\":{\"pattern\":{\"fillmode\":\"overlay\",\"size\":10,\"solidity\":0.2}},\"type\":\"histogram\"}],\"scattergl\":[{\"type\":\"scattergl\",\"marker\":{\"colorbar\":{\"outlinewidth\":0,\"ticks\":\"\"}}}],\"scatter3d\":[{\"type\":\"scatter3d\",\"line\":{\"colorbar\":{\"outlinewidth\":0,\"ticks\":\"\"}},\"marker\":{\"colorbar\":{\"outlinewidth\":0,\"ticks\":\"\"}}}],\"scattermapbox\":[{\"type\":\"scattermapbox\",\"marker\":{\"colorbar\":{\"outlinewidth\":0,\"ticks\":\"\"}}}],\"scatterternary\":[{\"type\":\"scatterternary\",\"marker\":{\"colorbar\":{\"outlinewidth\":0,\"ticks\":\"\"}}}],\"scattercarpet\":[{\"type\":\"scattercarpet\",\"marker\":{\"colorbar\":{\"outlinewidth\":0,\"ticks\":\"\"}}}],\"carpet\":[{\"aaxis\":{\"endlinecolor\":\"#2a3f5f\",\"gridcolor\":\"white\",\"linecolor\":\"white\",\"minorgridcolor\":\"white\",\"startlinecolor\":\"#2a3f5f\"},\"baxis\":{\"endlinecolor\":\"#2a3f5f\",\"gridcolor\":\"white\",\"linecolor\":\"white\",\"minorgridcolor\":\"white\",\"startlinecolor\":\"#2a3f5f\"},\"type\":\"carpet\"}],\"table\":[{\"cells\":{\"fill\":{\"color\":\"#EBF0F8\"},\"line\":{\"color\":\"white\"}},\"header\":{\"fill\":{\"color\":\"#C8D4E3\"},\"line\":{\"color\":\"white\"}},\"type\":\"table\"}],\"barpolar\":[{\"marker\":{\"line\":{\"color\":\"#E5ECF6\",\"width\":0.5},\"pattern\":{\"fillmode\":\"overlay\",\"size\":10,\"solidity\":0.2}},\"type\":\"barpolar\"}],\"pie\":[{\"automargin\":true,\"type\":\"pie\"}]},\"layout\":{\"autotypenumbers\":\"strict\",\"colorway\":[\"#636efa\",\"#EF553B\",\"#00cc96\",\"#ab63fa\",\"#FFA15A\",\"#19d3f3\",\"#FF6692\",\"#B6E880\",\"#FF97FF\",\"#FECB52\"],\"font\":{\"color\":\"#2a3f5f\"},\"hovermode\":\"closest\",\"hoverlabel\":{\"align\":\"left\"},\"paper_bgcolor\":\"white\",\"plot_bgcolor\":\"#E5ECF6\",\"polar\":{\"bgcolor\":\"#E5ECF6\",\"angularaxis\":{\"gridcolor\":\"white\",\"linecolor\":\"white\",\"ticks\":\"\"},\"radialaxis\":{\"gridcolor\":\"white\",\"linecolor\":\"white\",\"ticks\":\"\"}},\"ternary\":{\"bgcolor\":\"#E5ECF6\",\"aaxis\":{\"gridcolor\":\"white\",\"linecolor\":\"white\",\"ticks\":\"\"},\"baxis\":{\"gridcolor\":\"white\",\"linecolor\":\"white\",\"ticks\":\"\"},\"caxis\":{\"gridcolor\":\"white\",\"linecolor\":\"white\",\"ticks\":\"\"}},\"coloraxis\":{\"colorbar\":{\"outlinewidth\":0,\"ticks\":\"\"}},\"colorscale\":{\"sequential\":[[0.0,\"#0d0887\"],[0.1111111111111111,\"#46039f\"],[0.2222222222222222,\"#7201a8\"],[0.3333333333333333,\"#9c179e\"],[0.4444444444444444,\"#bd3786\"],[0.5555555555555556,\"#d8576b\"],[0.6666666666666666,\"#ed7953\"],[0.7777777777777778,\"#fb9f3a\"],[0.8888888888888888,\"#fdca26\"],[1.0,\"#f0f921\"]],\"sequentialminus\":[[0.0,\"#0d0887\"],[0.1111111111111111,\"#46039f\"],[0.2222222222222222,\"#7201a8\"],[0.3333333333333333,\"#9c179e\"],[0.4444444444444444,\"#bd3786\"],[0.5555555555555556,\"#d8576b\"],[0.6666666666666666,\"#ed7953\"],[0.7777777777777778,\"#fb9f3a\"],[0.8888888888888888,\"#fdca26\"],[1.0,\"#f0f921\"]],\"diverging\":[[0,\"#8e0152\"],[0.1,\"#c51b7d\"],[0.2,\"#de77ae\"],[0.3,\"#f1b6da\"],[0.4,\"#fde0ef\"],[0.5,\"#f7f7f7\"],[0.6,\"#e6f5d0\"],[0.7,\"#b8e186\"],[0.8,\"#7fbc41\"],[0.9,\"#4d9221\"],[1,\"#276419\"]]},\"xaxis\":{\"gridcolor\":\"white\",\"linecolor\":\"white\",\"ticks\":\"\",\"title\":{\"standoff\":15},\"zerolinecolor\":\"white\",\"automargin\":true,\"zerolinewidth\":2},\"yaxis\":{\"gridcolor\":\"white\",\"linecolor\":\"white\",\"ticks\":\"\",\"title\":{\"standoff\":15},\"zerolinecolor\":\"white\",\"automargin\":true,\"zerolinewidth\":2},\"scene\":{\"xaxis\":{\"backgroundcolor\":\"#E5ECF6\",\"gridcolor\":\"white\",\"linecolor\":\"white\",\"showbackground\":true,\"ticks\":\"\",\"zerolinecolor\":\"white\",\"gridwidth\":2},\"yaxis\":{\"backgroundcolor\":\"#E5ECF6\",\"gridcolor\":\"white\",\"linecolor\":\"white\",\"showbackground\":true,\"ticks\":\"\",\"zerolinecolor\":\"white\",\"gridwidth\":2},\"zaxis\":{\"backgroundcolor\":\"#E5ECF6\",\"gridcolor\":\"white\",\"linecolor\":\"white\",\"showbackground\":true,\"ticks\":\"\",\"zerolinecolor\":\"white\",\"gridwidth\":2}},\"shapedefaults\":{\"line\":{\"color\":\"#2a3f5f\"}},\"annotationdefaults\":{\"arrowcolor\":\"#2a3f5f\",\"arrowhead\":0,\"arrowwidth\":1},\"geo\":{\"bgcolor\":\"white\",\"landcolor\":\"#E5ECF6\",\"subunitcolor\":\"white\",\"showland\":true,\"showlakes\":true,\"lakecolor\":\"white\"},\"title\":{\"x\":0.05},\"mapbox\":{\"style\":\"light\"}}}},                        {\"responsive\": true}                    ).then(function(){\n",
              "                            \n",
              "var gd = document.getElementById('1ef45aec-0918-4be2-bd6f-3c1e1954b558');\n",
              "var x = new MutationObserver(function (mutations, observer) {{\n",
              "        var display = window.getComputedStyle(gd).display;\n",
              "        if (!display || display === 'none') {{\n",
              "            console.log([gd, 'removed!']);\n",
              "            Plotly.purge(gd);\n",
              "            observer.disconnect();\n",
              "        }}\n",
              "}});\n",
              "\n",
              "// Listen for the removal of the full notebook cells\n",
              "var notebookContainer = gd.closest('#notebook-container');\n",
              "if (notebookContainer) {{\n",
              "    x.observe(notebookContainer, {childList: true});\n",
              "}}\n",
              "\n",
              "// Listen for the clearing of the current output cell\n",
              "var outputEl = gd.closest('.output');\n",
              "if (outputEl) {{\n",
              "    x.observe(outputEl, {childList: true});\n",
              "}}\n",
              "\n",
              "                        })                };                            </script>        </div>\n",
              "</body>\n",
              "</html>"
            ]
          },
          "metadata": {}
        }
      ]
    },
    {
      "cell_type": "code",
      "source": [
        "# Save collaboration indexes to a CSV file\n",
        "collaboration_indexes_df = df[['discussion_comment_author_affiliation', 'discussion_thread_author_affiliation', 'collaboration_index']]\n",
        "collaboration_indexes_df.to_csv(\"collaboration_indexes.csv\", index=False)"
      ],
      "metadata": {
        "id": "uNLRrp-Iri1T"
      },
      "execution_count": 28,
      "outputs": []
    }
  ],
  "metadata": {
    "colab": {
      "provenance": []
    },
    "kernelspec": {
      "display_name": "Python 3",
      "name": "python3"
    },
    "language_info": {
      "name": "python"
    }
  },
  "nbformat": 4,
  "nbformat_minor": 0
}